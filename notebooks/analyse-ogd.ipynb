{
 "cells": [
  {
   "cell_type": "code",
   "execution_count": 28,
   "metadata": {},
   "outputs": [],
   "source": [
    "import json, csv"
   ]
  },
  {
   "cell_type": "code",
   "execution_count": 29,
   "metadata": {},
   "outputs": [],
   "source": [
    "jsondata = []\n",
    "with open('output/opendata.swiss.datasets.json') as f:\n",
    "    jsondata = json.loads(f.read())"
   ]
  },
  {
   "cell_type": "code",
   "execution_count": 30,
   "metadata": {},
   "outputs": [
    {
     "data": {
      "text/plain": [
       "{'description': 'Erosionsrisikokarte der landwirtschaftlichen Nutzfläche der Schweiz im 2x2-Meter-Raster auf der Basis des DTM-AV. Die Karte umfasst nur die Tal- und Hügelzone. Gezeigt wird das potentielle, qualitative Erosionsrisiko bei permanenter Ackerbewirtschaftung. Die Gesamtwertung wird einer von drei Gefährdungsstufen (keine Gefährdung, Gefährdung, hohe Gefährdung) zugeordnet, ohne dabei die Nutzung oder die Bewirtschaftungsweise des Bodens zu berücksichtigen. Berechnet wird der langjährige mittlere Bodenabtrag mit der Software AVErosion 1.0 unter Verwendung von MUSLE87 (Modified Universal Soil Loss Equation 1987).',\n",
       " 'downloads': [{'content_type': 'application/octetstream',\n",
       "   'created': '2018-04-04T23:09:57.595856',\n",
       "   'dimensions': {},\n",
       "   'dl_error': None,\n",
       "   'file_size': 289821349,\n",
       "   'filepath': './temp',\n",
       "   'format': 'ZIP',\n",
       "   'issued': '2010-11-01T00:00:00',\n",
       "   'modified': False,\n",
       "   'path': './temp/Bundesamt für Landwirtschaft BLW/__/8f0ac91c-6fd9-4124-8bee-f60a9909db2a',\n",
       "   'real_format': None,\n",
       "   'rights': 'NonCommercialAllowed-CommercialWithPermission-ReferenceRequired',\n",
       "   'size': None,\n",
       "   'status': 'Analyzed',\n",
       "   'status_code': 200,\n",
       "   'total': 0,\n",
       "   'url': 'http://data.geo.admin.ch/ch.blw.erosion/data.zip'},\n",
       "  {'content_type': 'text/xml; charset=UTF-8',\n",
       "   'created': '2018-04-04T23:09:57.595867',\n",
       "   'dimensions': {},\n",
       "   'dl_error': None,\n",
       "   'file_size': 1881926,\n",
       "   'filepath': './temp',\n",
       "   'format': 'SERVICE',\n",
       "   'issued': '2010-11-01T00:00:00',\n",
       "   'modified': False,\n",
       "   'path': './temp/Bundesamt für Landwirtschaft BLW/__/c3b60ddf-a8b3-424a-9691-58090bf281d3',\n",
       "   'real_format': 'Other',\n",
       "   'rights': 'NonCommercialAllowed-CommercialWithPermission-ReferenceRequired',\n",
       "   'size': None,\n",
       "   'status': 'Analyzed',\n",
       "   'status_code': 200,\n",
       "   'total': 'undefined',\n",
       "   'url': 'http://wms.geo.admin.ch/?SERVICE=WMS&VERSION=1.3.0&REQUEST=GetCapabilities&lang=de'}],\n",
       " 'id': '__',\n",
       " 'name': 'Erosionsrisikokarte der Schweiz, qualitativ 1 (Talgebiet)',\n",
       " 'organization': {'name': 'Bundesamt für Landwirtschaft BLW',\n",
       "  'political_level': 'confederation'},\n",
       " 'tags': ['geography', 'territory'],\n",
       " 'visits': None}"
      ]
     },
     "execution_count": 30,
     "metadata": {},
     "output_type": "execute_result"
    }
   ],
   "source": [
    "jsondata[0]"
   ]
  },
  {
   "cell_type": "code",
   "execution_count": 31,
   "metadata": {},
   "outputs": [
    {
     "name": "stdout",
     "output_type": "stream",
     "text": [
      "Total datasets: 3388\n",
      "Datasets without description: 1035\n"
     ]
    }
   ],
   "source": [
    "nodesc = []\n",
    "\n",
    "for d in jsondata:\n",
    "    if len(d['description']) < 10:\n",
    "        date = 'NULL'\n",
    "        if len(d['downloads']) > 0:\n",
    "            date = d['downloads'][0]['created']\n",
    "        nodesc.append({\n",
    "            'id': d['id'],\n",
    "            'name': d['name'],\n",
    "            'org': d['organization']['name'],\n",
    "            'date': date\n",
    "        })\n",
    "\n",
    "print(\"Total datasets: %d\" % len(jsondata))\n",
    "print(\"Datasets without description: %d\" % len(nodesc))"
   ]
  },
  {
   "cell_type": "code",
   "execution_count": 32,
   "metadata": {},
   "outputs": [
    {
     "name": "stdout",
     "output_type": "stream",
     "text": [
      "File written: analyse-ogd.csv\n"
     ]
    }
   ],
   "source": [
    "filename = \"analyse-ogd.csv\"\n",
    "with open(filename, 'w') as csvfile:\n",
    "    wr = csv.writer(csvfile, quoting=csv.QUOTE_MINIMAL)\n",
    "    wr.writerow(['id', 'name', 'org', 'date'])\n",
    "    for d in nodesc:\n",
    "        wr.writerow([d['id'], d['name'], d['org'], d['date']])\n",
    "print(\"File written: %s\" % filename)"
   ]
  },
  {
   "cell_type": "code",
   "execution_count": 35,
   "metadata": {},
   "outputs": [
    {
     "name": "stdout",
     "output_type": "stream",
     "text": [
      "Bundesamt für Statistik BFS 1009\n",
      "NULL 24\n",
      "Bundesamt für Landwirtschaft BLW 1\n",
      "Schweizerische Bundesbahnen SBB 1\n"
     ]
    }
   ],
   "source": [
    "orgs = {}\n",
    "for d in nodesc:\n",
    "    if not d['org'] in orgs:\n",
    "        orgs[d['org']] = 1\n",
    "    else:\n",
    "        orgs[d['org']] = orgs[d['org']] + 1\n",
    "for w in sorted(orgs, key=orgs.get, reverse=True):\n",
    "    print(w, orgs[w])"
   ]
  },
  {
   "cell_type": "code",
   "execution_count": null,
   "metadata": {},
   "outputs": [],
   "source": [
    "# Bonus: improve this with a map/reduce expression\n",
    "# see http://book.pythontips.com/en/latest/map_filter.html"
   ]
  }
 ],
 "metadata": {
  "kernelspec": {
   "display_name": "Python 3",
   "language": "python",
   "name": "python3"
  },
  "language_info": {
   "codemirror_mode": {
    "name": "ipython",
    "version": 3
   },
   "file_extension": ".py",
   "mimetype": "text/x-python",
   "name": "python",
   "nbconvert_exporter": "python",
   "pygments_lexer": "ipython3",
   "version": "3.6.4"
  }
 },
 "nbformat": 4,
 "nbformat_minor": 2
}
